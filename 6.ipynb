{
 "cells": [
  {
   "cell_type": "code",
   "execution_count": 45,
   "metadata": {},
   "outputs": [],
   "source": [
    "import numpy as np\n",
    "import cv2 as cv\n",
    "from skimage import io\n",
    "import matplotlib.pyplot as plt\n",
    "from scipy import fftpack\n",
    "import matplotlib.image as mpimg"
   ]
  },
  {
   "cell_type": "code",
   "execution_count": 46,
   "metadata": {},
   "outputs": [],
   "source": [
    "src1 = mpimg.imread('b1.jpg')\n",
    "src2 = mpimg.imread('b2.jpg')\n",
    "src3 = mpimg.imread('a1.jpg')\n",
    "src4 = mpimg.imread('a2.jpg')"
   ]
  },
  {
   "cell_type": "code",
   "execution_count": 47,
   "metadata": {},
   "outputs": [
    {
     "name": "stdout",
     "output_type": "stream",
     "text": [
      "[ 19.45910149 122.40594838  19.45910149]\n"
     ]
    }
   ],
   "source": [
    "f = np.fft.fft2(src1) ## Fourier Transform\n",
    "fshift = np.fft.fftshift(f) ## Shifting zero frequency to center\n",
    "freq_spec = 20*np.log(np.abs(fshift))  ## Take absolute and log only for displaying purpo\n",
    "\n",
    "mean = freq_spec[0][0]\n",
    "print (mean)"
   ]
  },
  {
   "cell_type": "code",
   "execution_count": 59,
   "metadata": {},
   "outputs": [
    {
     "name": "stdout",
     "output_type": "stream",
     "text": [
      "[54.48814298 86.95350588 69.62837121]\n"
     ]
    }
   ],
   "source": [
    "f = np.fft.fft2(src2) ## Fourier Transform\n",
    "fshift = np.fft.fftshift(f) ## Shifting zero frequency to center\n",
    "freq_spec = 20*np.log(np.abs(fshift))  ## Take absolute and log only for displaying purpo\n",
    "\n",
    "mean = freq_spec[0][0]\n",
    "print (mean)"
   ]
  },
  {
   "cell_type": "code",
   "execution_count": 49,
   "metadata": {},
   "outputs": [
    {
     "name": "stdout",
     "output_type": "stream",
     "text": [
      "[ 96.13550799 144.41282412  96.61584407]\n"
     ]
    }
   ],
   "source": [
    "f = np.fft.fft2(src3) ## Fourier Transform\n",
    "fshift = np.fft.fftshift(f) ## Shifting zero frequency to center\n",
    "freq_spec = 20*np.log(np.abs(fshift))  ## Take absolute and log only for displaying purpo\n",
    "\n",
    "mean = freq_spec[0][0]\n",
    "print (mean)"
   ]
  },
  {
   "cell_type": "code",
   "execution_count": 50,
   "metadata": {},
   "outputs": [
    {
     "name": "stdout",
     "output_type": "stream",
     "text": [
      "[ 54.84796933 138.51190394  54.84796933]\n"
     ]
    }
   ],
   "source": [
    "f = np.fft.fft2(src4) ## Fourier Transform\n",
    "fshift = np.fft.fftshift(f) ## Shifting zero frequency to center\n",
    "freq_spec = 20*np.log(np.abs(fshift))  ## Take absolute and log only for displaying purpo\n",
    "\n",
    "mean = freq_spec[0][0]\n",
    "print (mean)"
   ]
  },
  {
   "cell_type": "code",
   "execution_count": 111,
   "metadata": {},
   "outputs": [],
   "source": [
    "\n",
    "def detectrightness1(img):\n",
    "    f = np.fft.fft2(img) ## Fourier Transform\n",
    "    fshift = np.fft.fftshift(f) ## Shifting zero frequency to center\n",
    "    freq_spec = 20*np.log(np.abs(fshift))  ## Take absolute and log only for displaying purpo\n",
    "    mean = freq_spec[0][0]\n",
    "    if mean [0] == mean [2]:\n",
    "        print (\"The image is in daylight\")\n",
    "    else:\n",
    "        print(\"The image is taken at night\")"
   ]
  },
  {
   "cell_type": "code",
   "execution_count": 112,
   "metadata": {},
   "outputs": [
    {
     "name": "stdout",
     "output_type": "stream",
     "text": [
      "The image is taken at night\n"
     ]
    }
   ],
   "source": [
    "detectrightness1(src1)"
   ]
  },
  {
   "cell_type": "code",
   "execution_count": 113,
   "metadata": {},
   "outputs": [
    {
     "name": "stdout",
     "output_type": "stream",
     "text": [
      "The image is taken at night\n"
     ]
    }
   ],
   "source": [
    "detectrightness1(src2)"
   ]
  },
  {
   "cell_type": "code",
   "execution_count": 114,
   "metadata": {},
   "outputs": [],
   "source": [
    "def detectrightness2(img):\n",
    "    f = np.fft.fft2(img) ## Fourier Transform\n",
    "    fshift = np.fft.fftshift(f) ## Shifting zero frequency to center\n",
    "    freq_spec = 20*np.log(np.abs(fshift))  ## Take absolute and log only for displaying purpo\n",
    "    mean = freq_spec[0][0]\n",
    "    if mean [0] == mean [2]:\n",
    "        print (\"The image is taken at night\")\n",
    "    else:\n",
    "        print (\"The image is in daylight\")"
   ]
  },
  {
   "cell_type": "code",
   "execution_count": 120,
   "metadata": {},
   "outputs": [
    {
     "name": "stdout",
     "output_type": "stream",
     "text": [
      "The image is in daylight\n"
     ]
    }
   ],
   "source": [
    "detectrightness2(src3)"
   ]
  },
  {
   "cell_type": "code",
   "execution_count": 118,
   "metadata": {},
   "outputs": [
    {
     "name": "stdout",
     "output_type": "stream",
     "text": [
      "The image is in daylight\n"
     ]
    }
   ],
   "source": [
    "detectrightness2(src4)"
   ]
  },
  {
   "cell_type": "code",
   "execution_count": null,
   "metadata": {},
   "outputs": [],
   "source": []
  }
 ],
 "metadata": {
  "kernelspec": {
   "display_name": "Python 3",
   "language": "python",
   "name": "python3"
  },
  "language_info": {
   "codemirror_mode": {
    "name": "ipython",
    "version": 3
   },
   "file_extension": ".py",
   "mimetype": "text/x-python",
   "name": "python",
   "nbconvert_exporter": "python",
   "pygments_lexer": "ipython3",
   "version": "3.7.3"
  }
 },
 "nbformat": 4,
 "nbformat_minor": 2
}
